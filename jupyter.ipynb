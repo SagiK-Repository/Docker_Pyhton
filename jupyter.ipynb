{
 "cells": [
  {
   "cell_type": "markdown",
   "metadata": {},
   "source": [
    "# 이미지 그리기"
   ]
  },
  {
   "cell_type": "code",
   "execution_count": 1,
   "metadata": {},
   "outputs": [],
   "source": [
    "def draw(imgm, filename='drawing.png', w=400, h=200, line_width=1):\n",
    "    canvas_html = f'''\n",
    "        <style>\n",
    "            button#saveButton {{\n",
    "                background-color: #4CAF50;\n",
    "                border: none;\n",
    "                color: white;\n",
    "                padding: 15px 32px;\n",
    "                text-align: center;\n",
    "                text-decoration: none;\n",
    "                display: inline-block;\n",
    "                font-size: 16px;\n",
    "                margin: 4px 2px;\n",
    "                cursor: pointer;\n",
    "            }}\n",
    "        </style>\n",
    "        <img id=\"myImage\" src=\"{imgm}\" style=\"display:none;\">\n",
    "        <canvas id=\"myCanvas\" width=\"{w}\" height=\"{h}\"></canvas>\n",
    "        <canvas id=\"myCanvas2\" width=\"{w}\" height=\"{h}\" style=\"display:none;\"></canvas>\n",
    "        <button id=\"saveButton\" onclick=\"saveImage()\">Save</button>\n",
    "\n",
    "        <script>\n",
    "            var canvas = document.getElementById(\"myCanvas\");\n",
    "            var ctx = canvas.getContext(\"2d\");\n",
    "            var isDrawing = false;\n",
    "\n",
    "            var image = document.getElementById(\"myImage\");\n",
    "            image.onload = function() {{\n",
    "                ctx.drawImage(image, 0, 0, {w}, {h});\n",
    "            }};\n",
    "\n",
    "            var canvas2 = document.getElementById(\"myCanvas2\");\n",
    "            var ctx2 = canvas2.getContext(\"2d\");\n",
    "\n",
    "            canvas.addEventListener(\"mousedown\", startDrawing);\n",
    "            canvas.addEventListener(\"mousemove\", draw);\n",
    "            canvas.addEventListener(\"mouseup\", stopDrawing);\n",
    "            canvas.addEventListener(\"mouseout\", stopDrawing);\n",
    "\n",
    "            function startDrawing(e) {{\n",
    "                isDrawing = true;\n",
    "                draw(e);\n",
    "            }}\n",
    "\n",
    "            function draw(e) {{\n",
    "                if (!isDrawing) return;\n",
    "\n",
    "                var rect = canvas.getBoundingClientRect();\n",
    "                var x = e.clientX - rect.left;\n",
    "                var y = e.clientY - rect.top;\n",
    "\n",
    "                ctx.strokeStyle = \"red\";\n",
    "                ctx.lineWidth = {line_width};\n",
    "                ctx.lineTo(x, y);\n",
    "                ctx.stroke();\n",
    "\n",
    "                ctx2.strokeStyle = \"red\";\n",
    "                ctx2.lineWidth = {line_width};\n",
    "                ctx2.lineTo(x, y);\n",
    "                ctx2.stroke();\n",
    "            }}\n",
    "\n",
    "            function stopDrawing() {{\n",
    "                isDrawing = false;\n",
    "                ctx.beginPath();\n",
    "                ctx2.beginPath();\n",
    "            }}\n",
    "\n",
    "            function saveImage() {{\n",
    "                var image = canvas2.toDataURL(\"image/png\");\n",
    "                var a = document.createElement(\"a\");\n",
    "                a.href = image;\n",
    "                a.download = \"{filename}\";\n",
    "                document.body.appendChild(a);\n",
    "                a.click();\n",
    "                document.body.removeChild(a);\n",
    "            }}\n",
    "        </script>\n",
    "    '''\n",
    "\n",
    "\n",
    "    display(HTML(canvas_html))\n"
   ]
  },
  {
   "cell_type": "code",
   "execution_count": 24,
   "metadata": {},
   "outputs": [],
   "source": [
    "fname = 'convert/image (1).png'"
   ]
  },
  {
   "cell_type": "code",
   "execution_count": 25,
   "metadata": {},
   "outputs": [
    {
     "name": "stdout",
     "output_type": "stream",
     "text": [
      "Will use convert/image (2-1).png for inpainting\n"
     ]
    }
   ],
   "source": [
    "from IPython.display import display, HTML\n",
    "\n",
    "import base64, os\n",
    "from base64 import b64decode\n",
    "import matplotlib.pyplot as plt\n",
    "import numpy as np\n",
    "\n",
    "image64 = base64.b64encode(open(fname, 'rb').read())\n",
    "image64 = image64.decode('utf-8')\n",
    "\n",
    "print(f'Will use {fname} for inpainting')\n",
    "img = np.array(plt.imread(f'{fname}')[:,:,:3])"
   ]
  },
  {
   "cell_type": "code",
   "execution_count": 26,
   "metadata": {},
   "outputs": [
    {
     "data": {
      "text/html": [
       "\n",
       "        <style>\n",
       "            button#saveButton {\n",
       "                background-color: #4CAF50;\n",
       "                border: none;\n",
       "                color: white;\n",
       "                padding: 15px 32px;\n",
       "                text-align: center;\n",
       "                text-decoration: none;\n",
       "                display: inline-block;\n",
       "                font-size: 16px;\n",
       "                margin: 4px 2px;\n",
       "                cursor: pointer;\n",
       "            }\n",
       "        </style>\n",
       "        <img id=\"myImage\" src=\"convert/image (2-1).png\" style=\"display:none;\">\n",
       "        <canvas id=\"myCanvas\" width=\"2272\" height=\"3032\"></canvas>\n",
       "        <canvas id=\"myCanvas2\" width=\"2272\" height=\"3032\" style=\"display:none;\"></canvas>\n",
       "        <button id=\"saveButton\" onclick=\"saveImage()\">Save</button>\n",
       "\n",
       "        <script>\n",
       "            var canvas = document.getElementById(\"myCanvas\");\n",
       "            var ctx = canvas.getContext(\"2d\");\n",
       "            var isDrawing = false;\n",
       "\n",
       "            var image = document.getElementById(\"myImage\");\n",
       "            image.onload = function() {\n",
       "                ctx.drawImage(image, 0, 0, 2272, 3032);\n",
       "            };\n",
       "\n",
       "            var canvas2 = document.getElementById(\"myCanvas2\");\n",
       "            var ctx2 = canvas2.getContext(\"2d\");\n",
       "\n",
       "            canvas.addEventListener(\"mousedown\", startDrawing);\n",
       "            canvas.addEventListener(\"mousemove\", draw);\n",
       "            canvas.addEventListener(\"mouseup\", stopDrawing);\n",
       "            canvas.addEventListener(\"mouseout\", stopDrawing);\n",
       "\n",
       "            function startDrawing(e) {\n",
       "                isDrawing = true;\n",
       "                draw(e);\n",
       "            }\n",
       "\n",
       "            function draw(e) {\n",
       "                if (!isDrawing) return;\n",
       "\n",
       "                var rect = canvas.getBoundingClientRect();\n",
       "                var x = e.clientX - rect.left;\n",
       "                var y = e.clientY - rect.top;\n",
       "\n",
       "                ctx.strokeStyle = \"red\";\n",
       "                ctx.lineWidth = 45.44;\n",
       "                ctx.lineTo(x, y);\n",
       "                ctx.stroke();\n",
       "\n",
       "                ctx2.strokeStyle = \"red\";\n",
       "                ctx2.lineWidth = 45.44;\n",
       "                ctx2.lineTo(x, y);\n",
       "                ctx2.stroke();\n",
       "            }\n",
       "\n",
       "            function stopDrawing() {\n",
       "                isDrawing = false;\n",
       "                ctx.beginPath();\n",
       "                ctx2.beginPath();\n",
       "            }\n",
       "\n",
       "            function saveImage() {\n",
       "                var image = canvas2.toDataURL(\"image/png\");\n",
       "                var a = document.createElement(\"a\");\n",
       "                a.href = image;\n",
       "                a.download = \"./png_mask.png\";\n",
       "                document.body.appendChild(a);\n",
       "                a.click();\n",
       "                document.body.removeChild(a);\n",
       "            }\n",
       "        </script>\n",
       "    "
      ],
      "text/plain": [
       "<IPython.core.display.HTML object>"
      ]
     },
     "metadata": {},
     "output_type": "display_data"
    }
   ],
   "source": [
    "draw(fname, filename=f\"./{fname.split('.')[1]}_mask.png\", w=img.shape[1], h=img.shape[0], line_width=0.02*img.shape[1])"
   ]
  },
  {
   "cell_type": "markdown",
   "metadata": {},
   "source": [
    "# LaMa 준비"
   ]
  },
  {
   "cell_type": "code",
   "execution_count": 8,
   "metadata": {},
   "outputs": [],
   "source": [
    "# apt-get install -y libgl1-mesa-glx\n",
    "\n",
    "from simple_lama_inpainting import SimpleLama\n",
    "from PIL import Image"
   ]
  },
  {
   "cell_type": "code",
   "execution_count": 9,
   "metadata": {},
   "outputs": [],
   "source": [
    "simple_lama = SimpleLama()"
   ]
  },
  {
   "cell_type": "markdown",
   "metadata": {},
   "source": [
    "# LaMa 실행"
   ]
  },
  {
   "cell_type": "code",
   "execution_count": 27,
   "metadata": {},
   "outputs": [],
   "source": [
    "mask_path = 'png_mask.png'\n",
    "\n",
    "image = Image.open(fname)\n",
    "mask = Image.open(mask_path).convert('L')"
   ]
  },
  {
   "cell_type": "code",
   "execution_count": 28,
   "metadata": {},
   "outputs": [],
   "source": [
    "result = simple_lama(image, mask)\n",
    "result.save(\"inpainted.png\")"
   ]
  }
 ],
 "metadata": {
  "kernelspec": {
   "display_name": "Python 3",
   "language": "python",
   "name": "python3"
  },
  "language_info": {
   "codemirror_mode": {
    "name": "ipython",
    "version": 3
   },
   "file_extension": ".py",
   "mimetype": "text/x-python",
   "name": "python",
   "nbconvert_exporter": "python",
   "pygments_lexer": "ipython3",
   "version": "3.10.7"
  }
 },
 "nbformat": 4,
 "nbformat_minor": 2
}
